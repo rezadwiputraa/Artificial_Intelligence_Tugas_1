{
  "nbformat": 4,
  "nbformat_minor": 0,
  "metadata": {
    "colab": {
      "provenance": [],
      "authorship_tag": "ABX9TyM91RYuQDraX4h7Pdjg5RU0",
      "include_colab_link": true
    },
    "kernelspec": {
      "name": "python3",
      "display_name": "Python 3"
    },
    "language_info": {
      "name": "python"
    }
  },
  "cells": [
    {
      "cell_type": "markdown",
      "metadata": {
        "id": "view-in-github",
        "colab_type": "text"
      },
      "source": [
        "<a href=\"https://colab.research.google.com/github/rezadwiputraa/Artificial_Intelligence_Tugas_1/blob/main/Tugas_1.ipynb\" target=\"_parent\"><img src=\"https://colab.research.google.com/assets/colab-badge.svg\" alt=\"Open In Colab\"/></a>"
      ]
    },
    {
      "cell_type": "markdown",
      "source": [
        "# Nama : Reza Dwi Putra\n",
        "# Nim : 20220801472\n",
        "\n",
        "\n",
        "# Penjualan Vape Oxva\n"
      ],
      "metadata": {
        "id": "IXNnkO2e9lhA"
      }
    },
    {
      "cell_type": "markdown",
      "source": [
        "# Import Libraries\n",
        "\n",
        "*   ### `Pandas` : Digunakan untuk manipulasi dan analisis data.\n",
        "*   ### `Seaborn` & Matplotlib : Digunakan untuk visualisasi data.\n",
        "*   ### `Scikit-learn` : Berisi fungsi untuk pembelajaran mesin, seperti pembagian data, normalisasi, algoritma KNN, dan evaluasi model."
      ],
      "metadata": {
        "id": "jADS5wAi_qQu"
      }
    },
    {
      "cell_type": "code",
      "source": [
        "import pandas as pd\n",
        "import seaborn as sns\n",
        "import matplotlib.pyplot as plt\n",
        "from sklearn.model_selection import train_test_split\n",
        "from sklearn.preprocessing import StandardScaler\n",
        "from sklearn.neighbors import KNeighborsClassifier\n",
        "from sklearn.metrics import accuracy_score, confusion_matrix, classification_report"
      ],
      "metadata": {
        "id": "8PpIZFzW6J3o"
      },
      "execution_count": 51,
      "outputs": []
    },
    {
      "cell_type": "markdown",
      "source": [
        "# Membaca Data\n",
        "\n",
        "\n",
        "* ### Dataset yang terdiri dari beberapa atribut (tanggal, nama produk, jumlah terjual, harga per unit, dan total penjualan) dan menyimpannya ke dalam sebuah DataFrame."
      ],
      "metadata": {
        "id": "l0k9THH6BPNY"
      }
    },
    {
      "cell_type": "code",
      "source": [
        "data_penjualan = {\n",
        "    \"Tanggal\": [\n",
        "        \"2024-01-01\", \"2024-01-02\", \"2024-01-03\", \"2024-01-04\",\n",
        "        \"2024-01-05\", \"2024-01-06\", \"2024-01-07\", \"2024-01-08\",\n",
        "        \"2024-01-09\", \"2024-01-10\"\n",
        "    ],\n",
        "    \"Nama_Produk\": [\n",
        "        \"Oxva XlimPro\", \"Oxva XlimSe\", \"Oxva XlimGo\", \"Oxva XlimPro\",\n",
        "        \"Oxva XlimSe\", \"Oxva XlimGo\", \"Oxva XlimPro\", \"Oxva XlimSe\",\n",
        "        \"Oxva XlimGo\", \"Oxva XlimPro\"\n",
        "    ],\n",
        "    \"Jumlah_Terjual\": [\n",
        "        10, 5, 8, 12, 7, 6, 9, 10, 4, 11\n",
        "    ],\n",
        "    \"Harga_Per_Unit\": [\n",
        "        150000, 200000, 180000, 150000,\n",
        "        200000, 180000, 150000, 200000,\n",
        "        180000, 150000\n",
        "    ],\n",
        "    \"Total_Penjualan\": [\n",
        "        1500000, 1000000, 1440000, 1800000,\n",
        "        1400000, 1080000, 1350000, 2000000,\n",
        "        720000, 1650000\n",
        "    ]\n",
        "}\n",
        "\n",
        "df_penjualan = pd.DataFrame(data_penjualan)"
      ],
      "metadata": {
        "id": "WN4NcqNe6RC3"
      },
      "execution_count": 52,
      "outputs": []
    },
    {
      "cell_type": "markdown",
      "source": [
        "# Eksplorasi Data\n",
        "\n",
        "\n",
        "*   ### `head()` : Menampilkan 5 baris pertama dari DataFrame untuk memberikan gambaran umum tentang data."
      ],
      "metadata": {
        "id": "H22hHuM2CjHX"
      }
    },
    {
      "cell_type": "code",
      "source": [
        "display(df_penjualan.head())"
      ],
      "metadata": {
        "colab": {
          "base_uri": "https://localhost:8080/",
          "height": 206
        },
        "id": "oX2ddirlBjl2",
        "outputId": "69a633cd-7c02-4652-a6c4-227777fe1676"
      },
      "execution_count": 53,
      "outputs": [
        {
          "output_type": "display_data",
          "data": {
            "text/plain": [
              "      Tanggal   Nama_Produk  Jumlah_Terjual  Harga_Per_Unit  Total_Penjualan\n",
              "0  2024-01-01  Oxva XlimPro              10          150000          1500000\n",
              "1  2024-01-02   Oxva XlimSe               5          200000          1000000\n",
              "2  2024-01-03   Oxva XlimGo               8          180000          1440000\n",
              "3  2024-01-04  Oxva XlimPro              12          150000          1800000\n",
              "4  2024-01-05   Oxva XlimSe               7          200000          1400000"
            ],
            "text/html": [
              "\n",
              "  <div id=\"df-381e4010-5989-4a86-b32b-2e11bb0c894f\" class=\"colab-df-container\">\n",
              "    <div>\n",
              "<style scoped>\n",
              "    .dataframe tbody tr th:only-of-type {\n",
              "        vertical-align: middle;\n",
              "    }\n",
              "\n",
              "    .dataframe tbody tr th {\n",
              "        vertical-align: top;\n",
              "    }\n",
              "\n",
              "    .dataframe thead th {\n",
              "        text-align: right;\n",
              "    }\n",
              "</style>\n",
              "<table border=\"1\" class=\"dataframe\">\n",
              "  <thead>\n",
              "    <tr style=\"text-align: right;\">\n",
              "      <th></th>\n",
              "      <th>Tanggal</th>\n",
              "      <th>Nama_Produk</th>\n",
              "      <th>Jumlah_Terjual</th>\n",
              "      <th>Harga_Per_Unit</th>\n",
              "      <th>Total_Penjualan</th>\n",
              "    </tr>\n",
              "  </thead>\n",
              "  <tbody>\n",
              "    <tr>\n",
              "      <th>0</th>\n",
              "      <td>2024-01-01</td>\n",
              "      <td>Oxva XlimPro</td>\n",
              "      <td>10</td>\n",
              "      <td>150000</td>\n",
              "      <td>1500000</td>\n",
              "    </tr>\n",
              "    <tr>\n",
              "      <th>1</th>\n",
              "      <td>2024-01-02</td>\n",
              "      <td>Oxva XlimSe</td>\n",
              "      <td>5</td>\n",
              "      <td>200000</td>\n",
              "      <td>1000000</td>\n",
              "    </tr>\n",
              "    <tr>\n",
              "      <th>2</th>\n",
              "      <td>2024-01-03</td>\n",
              "      <td>Oxva XlimGo</td>\n",
              "      <td>8</td>\n",
              "      <td>180000</td>\n",
              "      <td>1440000</td>\n",
              "    </tr>\n",
              "    <tr>\n",
              "      <th>3</th>\n",
              "      <td>2024-01-04</td>\n",
              "      <td>Oxva XlimPro</td>\n",
              "      <td>12</td>\n",
              "      <td>150000</td>\n",
              "      <td>1800000</td>\n",
              "    </tr>\n",
              "    <tr>\n",
              "      <th>4</th>\n",
              "      <td>2024-01-05</td>\n",
              "      <td>Oxva XlimSe</td>\n",
              "      <td>7</td>\n",
              "      <td>200000</td>\n",
              "      <td>1400000</td>\n",
              "    </tr>\n",
              "  </tbody>\n",
              "</table>\n",
              "</div>\n",
              "    <div class=\"colab-df-buttons\">\n",
              "\n",
              "  <div class=\"colab-df-container\">\n",
              "    <button class=\"colab-df-convert\" onclick=\"convertToInteractive('df-381e4010-5989-4a86-b32b-2e11bb0c894f')\"\n",
              "            title=\"Convert this dataframe to an interactive table.\"\n",
              "            style=\"display:none;\">\n",
              "\n",
              "  <svg xmlns=\"http://www.w3.org/2000/svg\" height=\"24px\" viewBox=\"0 -960 960 960\">\n",
              "    <path d=\"M120-120v-720h720v720H120Zm60-500h600v-160H180v160Zm220 220h160v-160H400v160Zm0 220h160v-160H400v160ZM180-400h160v-160H180v160Zm440 0h160v-160H620v160ZM180-180h160v-160H180v160Zm440 0h160v-160H620v160Z\"/>\n",
              "  </svg>\n",
              "    </button>\n",
              "\n",
              "  <style>\n",
              "    .colab-df-container {\n",
              "      display:flex;\n",
              "      gap: 12px;\n",
              "    }\n",
              "\n",
              "    .colab-df-convert {\n",
              "      background-color: #E8F0FE;\n",
              "      border: none;\n",
              "      border-radius: 50%;\n",
              "      cursor: pointer;\n",
              "      display: none;\n",
              "      fill: #1967D2;\n",
              "      height: 32px;\n",
              "      padding: 0 0 0 0;\n",
              "      width: 32px;\n",
              "    }\n",
              "\n",
              "    .colab-df-convert:hover {\n",
              "      background-color: #E2EBFA;\n",
              "      box-shadow: 0px 1px 2px rgba(60, 64, 67, 0.3), 0px 1px 3px 1px rgba(60, 64, 67, 0.15);\n",
              "      fill: #174EA6;\n",
              "    }\n",
              "\n",
              "    .colab-df-buttons div {\n",
              "      margin-bottom: 4px;\n",
              "    }\n",
              "\n",
              "    [theme=dark] .colab-df-convert {\n",
              "      background-color: #3B4455;\n",
              "      fill: #D2E3FC;\n",
              "    }\n",
              "\n",
              "    [theme=dark] .colab-df-convert:hover {\n",
              "      background-color: #434B5C;\n",
              "      box-shadow: 0px 1px 3px 1px rgba(0, 0, 0, 0.15);\n",
              "      filter: drop-shadow(0px 1px 2px rgba(0, 0, 0, 0.3));\n",
              "      fill: #FFFFFF;\n",
              "    }\n",
              "  </style>\n",
              "\n",
              "    <script>\n",
              "      const buttonEl =\n",
              "        document.querySelector('#df-381e4010-5989-4a86-b32b-2e11bb0c894f button.colab-df-convert');\n",
              "      buttonEl.style.display =\n",
              "        google.colab.kernel.accessAllowed ? 'block' : 'none';\n",
              "\n",
              "      async function convertToInteractive(key) {\n",
              "        const element = document.querySelector('#df-381e4010-5989-4a86-b32b-2e11bb0c894f');\n",
              "        const dataTable =\n",
              "          await google.colab.kernel.invokeFunction('convertToInteractive',\n",
              "                                                    [key], {});\n",
              "        if (!dataTable) return;\n",
              "\n",
              "        const docLinkHtml = 'Like what you see? Visit the ' +\n",
              "          '<a target=\"_blank\" href=https://colab.research.google.com/notebooks/data_table.ipynb>data table notebook</a>'\n",
              "          + ' to learn more about interactive tables.';\n",
              "        element.innerHTML = '';\n",
              "        dataTable['output_type'] = 'display_data';\n",
              "        await google.colab.output.renderOutput(dataTable, element);\n",
              "        const docLink = document.createElement('div');\n",
              "        docLink.innerHTML = docLinkHtml;\n",
              "        element.appendChild(docLink);\n",
              "      }\n",
              "    </script>\n",
              "  </div>\n",
              "\n",
              "\n",
              "<div id=\"df-6b00a84f-6a47-43a9-b39c-826544e2280b\">\n",
              "  <button class=\"colab-df-quickchart\" onclick=\"quickchart('df-6b00a84f-6a47-43a9-b39c-826544e2280b')\"\n",
              "            title=\"Suggest charts\"\n",
              "            style=\"display:none;\">\n",
              "\n",
              "<svg xmlns=\"http://www.w3.org/2000/svg\" height=\"24px\"viewBox=\"0 0 24 24\"\n",
              "     width=\"24px\">\n",
              "    <g>\n",
              "        <path d=\"M19 3H5c-1.1 0-2 .9-2 2v14c0 1.1.9 2 2 2h14c1.1 0 2-.9 2-2V5c0-1.1-.9-2-2-2zM9 17H7v-7h2v7zm4 0h-2V7h2v10zm4 0h-2v-4h2v4z\"/>\n",
              "    </g>\n",
              "</svg>\n",
              "  </button>\n",
              "\n",
              "<style>\n",
              "  .colab-df-quickchart {\n",
              "      --bg-color: #E8F0FE;\n",
              "      --fill-color: #1967D2;\n",
              "      --hover-bg-color: #E2EBFA;\n",
              "      --hover-fill-color: #174EA6;\n",
              "      --disabled-fill-color: #AAA;\n",
              "      --disabled-bg-color: #DDD;\n",
              "  }\n",
              "\n",
              "  [theme=dark] .colab-df-quickchart {\n",
              "      --bg-color: #3B4455;\n",
              "      --fill-color: #D2E3FC;\n",
              "      --hover-bg-color: #434B5C;\n",
              "      --hover-fill-color: #FFFFFF;\n",
              "      --disabled-bg-color: #3B4455;\n",
              "      --disabled-fill-color: #666;\n",
              "  }\n",
              "\n",
              "  .colab-df-quickchart {\n",
              "    background-color: var(--bg-color);\n",
              "    border: none;\n",
              "    border-radius: 50%;\n",
              "    cursor: pointer;\n",
              "    display: none;\n",
              "    fill: var(--fill-color);\n",
              "    height: 32px;\n",
              "    padding: 0;\n",
              "    width: 32px;\n",
              "  }\n",
              "\n",
              "  .colab-df-quickchart:hover {\n",
              "    background-color: var(--hover-bg-color);\n",
              "    box-shadow: 0 1px 2px rgba(60, 64, 67, 0.3), 0 1px 3px 1px rgba(60, 64, 67, 0.15);\n",
              "    fill: var(--button-hover-fill-color);\n",
              "  }\n",
              "\n",
              "  .colab-df-quickchart-complete:disabled,\n",
              "  .colab-df-quickchart-complete:disabled:hover {\n",
              "    background-color: var(--disabled-bg-color);\n",
              "    fill: var(--disabled-fill-color);\n",
              "    box-shadow: none;\n",
              "  }\n",
              "\n",
              "  .colab-df-spinner {\n",
              "    border: 2px solid var(--fill-color);\n",
              "    border-color: transparent;\n",
              "    border-bottom-color: var(--fill-color);\n",
              "    animation:\n",
              "      spin 1s steps(1) infinite;\n",
              "  }\n",
              "\n",
              "  @keyframes spin {\n",
              "    0% {\n",
              "      border-color: transparent;\n",
              "      border-bottom-color: var(--fill-color);\n",
              "      border-left-color: var(--fill-color);\n",
              "    }\n",
              "    20% {\n",
              "      border-color: transparent;\n",
              "      border-left-color: var(--fill-color);\n",
              "      border-top-color: var(--fill-color);\n",
              "    }\n",
              "    30% {\n",
              "      border-color: transparent;\n",
              "      border-left-color: var(--fill-color);\n",
              "      border-top-color: var(--fill-color);\n",
              "      border-right-color: var(--fill-color);\n",
              "    }\n",
              "    40% {\n",
              "      border-color: transparent;\n",
              "      border-right-color: var(--fill-color);\n",
              "      border-top-color: var(--fill-color);\n",
              "    }\n",
              "    60% {\n",
              "      border-color: transparent;\n",
              "      border-right-color: var(--fill-color);\n",
              "    }\n",
              "    80% {\n",
              "      border-color: transparent;\n",
              "      border-right-color: var(--fill-color);\n",
              "      border-bottom-color: var(--fill-color);\n",
              "    }\n",
              "    90% {\n",
              "      border-color: transparent;\n",
              "      border-bottom-color: var(--fill-color);\n",
              "    }\n",
              "  }\n",
              "</style>\n",
              "\n",
              "  <script>\n",
              "    async function quickchart(key) {\n",
              "      const quickchartButtonEl =\n",
              "        document.querySelector('#' + key + ' button');\n",
              "      quickchartButtonEl.disabled = true;  // To prevent multiple clicks.\n",
              "      quickchartButtonEl.classList.add('colab-df-spinner');\n",
              "      try {\n",
              "        const charts = await google.colab.kernel.invokeFunction(\n",
              "            'suggestCharts', [key], {});\n",
              "      } catch (error) {\n",
              "        console.error('Error during call to suggestCharts:', error);\n",
              "      }\n",
              "      quickchartButtonEl.classList.remove('colab-df-spinner');\n",
              "      quickchartButtonEl.classList.add('colab-df-quickchart-complete');\n",
              "    }\n",
              "    (() => {\n",
              "      let quickchartButtonEl =\n",
              "        document.querySelector('#df-6b00a84f-6a47-43a9-b39c-826544e2280b button');\n",
              "      quickchartButtonEl.style.display =\n",
              "        google.colab.kernel.accessAllowed ? 'block' : 'none';\n",
              "    })();\n",
              "  </script>\n",
              "</div>\n",
              "\n",
              "    </div>\n",
              "  </div>\n"
            ],
            "application/vnd.google.colaboratory.intrinsic+json": {
              "type": "dataframe",
              "summary": "{\n  \"name\": \"display(df_penjualan\",\n  \"rows\": 5,\n  \"fields\": [\n    {\n      \"column\": \"Tanggal\",\n      \"properties\": {\n        \"dtype\": \"object\",\n        \"num_unique_values\": 5,\n        \"samples\": [\n          \"2024-01-02\",\n          \"2024-01-05\",\n          \"2024-01-03\"\n        ],\n        \"semantic_type\": \"\",\n        \"description\": \"\"\n      }\n    },\n    {\n      \"column\": \"Nama_Produk\",\n      \"properties\": {\n        \"dtype\": \"string\",\n        \"num_unique_values\": 3,\n        \"samples\": [\n          \"Oxva XlimPro\",\n          \"Oxva XlimSe\",\n          \"Oxva XlimGo\"\n        ],\n        \"semantic_type\": \"\",\n        \"description\": \"\"\n      }\n    },\n    {\n      \"column\": \"Jumlah_Terjual\",\n      \"properties\": {\n        \"dtype\": \"number\",\n        \"std\": 2,\n        \"min\": 5,\n        \"max\": 12,\n        \"num_unique_values\": 5,\n        \"samples\": [\n          5,\n          7,\n          8\n        ],\n        \"semantic_type\": \"\",\n        \"description\": \"\"\n      }\n    },\n    {\n      \"column\": \"Harga_Per_Unit\",\n      \"properties\": {\n        \"dtype\": \"number\",\n        \"std\": 25099,\n        \"min\": 150000,\n        \"max\": 200000,\n        \"num_unique_values\": 3,\n        \"samples\": [\n          150000,\n          200000,\n          180000\n        ],\n        \"semantic_type\": \"\",\n        \"description\": \"\"\n      }\n    },\n    {\n      \"column\": \"Total_Penjualan\",\n      \"properties\": {\n        \"dtype\": \"number\",\n        \"std\": 286216,\n        \"min\": 1000000,\n        \"max\": 1800000,\n        \"num_unique_values\": 5,\n        \"samples\": [\n          1000000,\n          1400000,\n          1440000\n        ],\n        \"semantic_type\": \"\",\n        \"description\": \"\"\n      }\n    }\n  ]\n}"
            }
          },
          "metadata": {}
        }
      ]
    },
    {
      "cell_type": "markdown",
      "source": [
        "# Visualisasi distribusi produk terjual\n",
        "\n",
        "*   ### Menggunakan `seaborn` untuk membuat plot hitung `(countplot) `yang menunjukkan distribusi jumlah penjualan setiap produk. Ini membantu Anda memahami produk mana yang paling banyak terjual.\n"
      ],
      "metadata": {
        "id": "HQRO00QwDj9j"
      }
    },
    {
      "cell_type": "code",
      "source": [
        "sns.countplot(x='Nama_Produk', data=df_penjualan)\n",
        "plt.ylabel('Jumlah Penjualan')\n",
        "plt.title('Distribusi Penjualan Produk')\n",
        "plt.show()"
      ],
      "metadata": {
        "colab": {
          "base_uri": "https://localhost:8080/",
          "height": 472
        },
        "id": "QBHwApjY6qEf",
        "outputId": "845bfee4-b18c-4c64-a7aa-027165ab0f96"
      },
      "execution_count": 54,
      "outputs": [
        {
          "output_type": "display_data",
          "data": {
            "text/plain": [
              "<Figure size 640x480 with 1 Axes>"
            ],
            "image/png": "[encoded data removed]"
          },
          "metadata": {}
        }
      ]
    },
    {
      "cell_type": "markdown",
      "source": [
        "# Persiapan Data\n",
        "\n",
        "*   ### `X` dan `y` : Menentukan fitur (jumlah terjual dan harga per unit) dan target (nama produk).\n",
        "*   ### `train_test_split`:  Membagi dataset menjadi dua bagian: data latih dan data uji. Dalam hal ini, 20% data digunakan untuk pengujian.\n",
        "\n"
      ],
      "metadata": {
        "id": "PJQ7V1hqFUXZ"
      }
    },
    {
      "cell_type": "code",
      "source": [
        "X = df_penjualan[['Jumlah_Terjual', 'Harga_Per_Unit']]\n",
        "y = df_penjualan['Nama_Produk']\n",
        "\n",
        "X_train, X_test, y_train, y_test = train_test_split(X, y, test_size=0.2, random_state=42)"
      ],
      "metadata": {
        "id": "yhXqFRhN62Di"
      },
      "execution_count": 55,
      "outputs": []
    },
    {
      "cell_type": "markdown",
      "source": [
        "# Normalisasi Data\n",
        "\n",
        "*   ### `StandardScaler` : Digunakan untuk menormalkan fitur dengan mengubah nilai sehingga memiliki mean = 0 dan deviasi standar = 1. Ini penting untuk algoritma KNN, yang sensitif terhadap skala fitur.\n",
        "\n"
      ],
      "metadata": {
        "id": "V3bDZ_EcFySj"
      }
    },
    {
      "cell_type": "code",
      "source": [
        "scaler = StandardScaler()\n",
        "X_train = scaler.fit_transform(X_train)\n",
        "X_test = scaler.transform(X_test)"
      ],
      "metadata": {
        "id": "1ogMZ3jyFSo_"
      },
      "execution_count": 56,
      "outputs": []
    },
    {
      "cell_type": "markdown",
      "source": [
        "# Evaluasi Model\n",
        "\n",
        "*   ### `predict` : Menggunakan model untuk memprediksi label dari data uji.\n",
        "*   ### `accuracy_score` : Menghitung akurasi model, yaitu proporsi prediksi yang benar.\n",
        "\n"
      ],
      "metadata": {
        "id": "NHvsleKEHgrH"
      }
    },
    {
      "cell_type": "code",
      "source": [
        "y_pred = model.predict(X_test)\n",
        "accuracy = accuracy_score(y_test, y_pred)\n",
        "print(f'Akurasi: {accuracy:.2f}')"
      ],
      "metadata": {
        "colab": {
          "base_uri": "https://localhost:8080/"
        },
        "id": "7vBvtgGU7VRr",
        "outputId": "8ed3eb52-9745-44a4-f9f5-012418cc739e"
      },
      "execution_count": 57,
      "outputs": [
        {
          "output_type": "stream",
          "name": "stdout",
          "text": [
            "Akurasi: 0.50\n"
          ]
        }
      ]
    },
    {
      "cell_type": "markdown",
      "source": [
        "# Matriks kebingungan\n",
        "\n",
        "\n",
        "*   `confusion_matrix` : Menghasilkan matriks kebingungan yang menunjukkan performa model.\n",
        "*   `heatmap` : Visualisasi dari matriks kebingungan untuk memudahkan interpretasi.\n",
        "\n",
        "\n",
        "\n",
        "\n"
      ],
      "metadata": {
        "id": "a7O_moKNIC73"
      }
    },
    {
      "cell_type": "code",
      "source": [
        "conf_matrix = confusion_matrix(y_test, y_pred)\n",
        "sns.heatmap(conf_matrix, annot=True, fmt='d', cmap='Blues')\n",
        "plt.title('Matriks Kebingungan')\n",
        "plt.xlabel('Prediksi')\n",
        "plt.ylabel('Aktual')\n",
        "plt.show()"
      ],
      "metadata": {
        "colab": {
          "base_uri": "https://localhost:8080/",
          "height": 472
        },
        "id": "WizO7omH7jfM",
        "outputId": "0d13ca0a-8f4f-45a6-de12-4ef73937a99c"
      },
      "execution_count": 58,
      "outputs": [
        {
          "output_type": "display_data",
          "data": {
            "text/plain": [
              "<Figure size 640x480 with 2 Axes>"
            ],
            "image/png": "[encoded data removed]"
          },
          "metadata": {}
        }
      ]
    }
  ]
}